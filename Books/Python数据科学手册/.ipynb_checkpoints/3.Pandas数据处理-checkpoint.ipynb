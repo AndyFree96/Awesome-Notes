{
 "cells": [
  {
   "cell_type": "code",
   "execution_count": 1,
   "id": "ddcb6dea-19c4-45d5-ada8-3d5d4d02fedc",
   "metadata": {},
   "outputs": [],
   "source": [
    "import pandas as pd"
   ]
  },
  {
   "cell_type": "code",
   "execution_count": 2,
   "id": "a5c8779e-b695-4c83-b1e0-cbed6116edbc",
   "metadata": {},
   "outputs": [
    {
     "data": {
      "text/plain": [
       "'1.4.1'"
      ]
     },
     "execution_count": 2,
     "metadata": {},
     "output_type": "execute_result"
    }
   ],
   "source": [
    "pd.__version__"
   ]
  },
  {
   "cell_type": "code",
   "execution_count": 3,
   "id": "279e50cb-bb00-4941-8460-14118e5fdcda",
   "metadata": {},
   "outputs": [],
   "source": [
    "import numpy as np"
   ]
  },
  {
   "cell_type": "code",
   "execution_count": 4,
   "id": "86a2c9da-e0fb-4a7d-be82-26053594ebd1",
   "metadata": {},
   "outputs": [
    {
     "data": {
      "text/plain": [
       "'1.22.3'"
      ]
     },
     "execution_count": 4,
     "metadata": {},
     "output_type": "execute_result"
    }
   ],
   "source": [
    "np.__version__"
   ]
  },
  {
   "cell_type": "markdown",
   "id": "a55367bb-7afb-4470-8618-b5d116b26af0",
   "metadata": {},
   "source": [
    "# Pandas对象简介"
   ]
  },
  {
   "cell_type": "markdown",
   "id": "57531dca-619a-4e9c-bd6d-010f11e8aaf2",
   "metadata": {},
   "source": [
    "## Pandas的Series对象"
   ]
  },
  {
   "cell_type": "markdown",
   "id": "135006a4-db14-4f86-820a-da3bc65893a4",
   "metadata": {},
   "source": [
    "Pandas的Series对象是一个带索引数据构成的一维数组。可以用一维数组创建Series对象。"
   ]
  },
  {
   "cell_type": "code",
   "execution_count": 5,
   "id": "cd3e6163-6f88-4f0d-a69f-d455f2daaa33",
   "metadata": {},
   "outputs": [],
   "source": [
    "data = pd.Series([0.25, 0.5, 0.75, 1.0])"
   ]
  },
  {
   "cell_type": "code",
   "execution_count": 6,
   "id": "e494a647-b41a-4a34-a451-60109731f377",
   "metadata": {},
   "outputs": [
    {
     "data": {
      "text/plain": [
       "0    0.25\n",
       "1    0.50\n",
       "2    0.75\n",
       "3    1.00\n",
       "dtype: float64"
      ]
     },
     "execution_count": 6,
     "metadata": {},
     "output_type": "execute_result"
    }
   ],
   "source": [
    "data"
   ]
  },
  {
   "cell_type": "code",
   "execution_count": 7,
   "id": "c1e928fe-4256-486b-94d0-8dc53c1460b0",
   "metadata": {},
   "outputs": [
    {
     "data": {
      "text/plain": [
       "array([0.25, 0.5 , 0.75, 1.  ])"
      ]
     },
     "execution_count": 7,
     "metadata": {},
     "output_type": "execute_result"
    }
   ],
   "source": [
    "data.values"
   ]
  },
  {
   "cell_type": "code",
   "execution_count": 8,
   "id": "cbc02530-f532-4dd6-be0e-c3ad994c88f6",
   "metadata": {},
   "outputs": [
    {
     "data": {
      "text/plain": [
       "RangeIndex(start=0, stop=4, step=1)"
      ]
     },
     "execution_count": 8,
     "metadata": {},
     "output_type": "execute_result"
    }
   ],
   "source": [
    "data.index"
   ]
  },
  {
   "cell_type": "code",
   "execution_count": 9,
   "id": "26f523aa-5df5-42ce-8dce-c79fdd3add61",
   "metadata": {},
   "outputs": [
    {
     "data": {
      "text/plain": [
       "0.5"
      ]
     },
     "execution_count": 9,
     "metadata": {},
     "output_type": "execute_result"
    }
   ],
   "source": [
    "data[1]"
   ]
  },
  {
   "cell_type": "code",
   "execution_count": 10,
   "id": "e7233dc9-cfb8-496d-8189-bf6d05606db1",
   "metadata": {},
   "outputs": [
    {
     "data": {
      "text/plain": [
       "1    0.50\n",
       "2    0.75\n",
       "dtype: float64"
      ]
     },
     "execution_count": 10,
     "metadata": {},
     "output_type": "execute_result"
    }
   ],
   "source": [
    "data[1:3]"
   ]
  },
  {
   "cell_type": "markdown",
   "id": "94234ca9-a320-4a1d-9d8e-4c12e65b7213",
   "metadata": {},
   "source": [
    "Series对象的索引可以是任意想要的类型，比如：字符串。"
   ]
  },
  {
   "cell_type": "code",
   "execution_count": 11,
   "id": "38ef73e8-b32e-415d-a16c-02675be0b471",
   "metadata": {},
   "outputs": [],
   "source": [
    "data = pd.Series(data.to_list(), index=list(\"abcd\"))"
   ]
  },
  {
   "cell_type": "code",
   "execution_count": 12,
   "id": "3587a0fe-d06b-4319-96fe-d54cd962fa6f",
   "metadata": {},
   "outputs": [
    {
     "data": {
      "text/plain": [
       "a    0.25\n",
       "b    0.50\n",
       "c    0.75\n",
       "d    1.00\n",
       "dtype: float64"
      ]
     },
     "execution_count": 12,
     "metadata": {},
     "output_type": "execute_result"
    }
   ],
   "source": [
    "data"
   ]
  },
  {
   "cell_type": "code",
   "execution_count": 13,
   "id": "ac61aa80-24d0-4f5f-8127-290fd57102b9",
   "metadata": {},
   "outputs": [
    {
     "data": {
      "text/plain": [
       "0.5"
      ]
     },
     "execution_count": 13,
     "metadata": {},
     "output_type": "execute_result"
    }
   ],
   "source": [
    "data['b']"
   ]
  },
  {
   "cell_type": "markdown",
   "id": "758772de-fd9a-4217-a289-64ff58ec5125",
   "metadata": {},
   "source": [
    "或者使用不连续或不按顺序的索引。"
   ]
  },
  {
   "cell_type": "code",
   "execution_count": 14,
   "id": "e4120c6d-f56d-44b1-a003-136763a08d94",
   "metadata": {},
   "outputs": [],
   "source": [
    "data = pd.Series(data.values, index=[2,5,3,7])"
   ]
  },
  {
   "cell_type": "code",
   "execution_count": 15,
   "id": "7812c4c6-fe3d-4ca2-9bd0-8bffb9efbea1",
   "metadata": {},
   "outputs": [
    {
     "data": {
      "text/plain": [
       "2    0.25\n",
       "5    0.50\n",
       "3    0.75\n",
       "7    1.00\n",
       "dtype: float64"
      ]
     },
     "execution_count": 15,
     "metadata": {},
     "output_type": "execute_result"
    }
   ],
   "source": [
    "data"
   ]
  },
  {
   "cell_type": "markdown",
   "id": "5d16f426-b076-4957-9113-5f978bac0a1d",
   "metadata": {},
   "source": [
    "我们可以直接用Python的字典创建一个Series对象。"
   ]
  },
  {
   "cell_type": "code",
   "execution_count": 16,
   "id": "6dc21b7f-c848-44a1-94db-e96bf92c4a64",
   "metadata": {},
   "outputs": [],
   "source": [
    "population_dict = {\n",
    "    'California': 38332521,\n",
    "    'Texas': 26448193,\n",
    "    'New York': 19651127,\n",
    "    'Florida': 19552860,\n",
    "    'Illinois': 12882135\n",
    "}"
   ]
  },
  {
   "cell_type": "code",
   "execution_count": 17,
   "id": "58ef696c-962d-4026-a407-946c8929aeb6",
   "metadata": {},
   "outputs": [],
   "source": [
    "population = pd.Series(population_dict)"
   ]
  },
  {
   "cell_type": "code",
   "execution_count": 18,
   "id": "f340f46b-89cf-459d-9e9e-d06b3360a090",
   "metadata": {},
   "outputs": [
    {
     "data": {
      "text/plain": [
       "California    38332521\n",
       "Texas         26448193\n",
       "New York      19651127\n",
       "Florida       19552860\n",
       "Illinois      12882135\n",
       "dtype: int64"
      ]
     },
     "execution_count": 18,
     "metadata": {},
     "output_type": "execute_result"
    }
   ],
   "source": [
    "population"
   ]
  },
  {
   "cell_type": "code",
   "execution_count": 19,
   "id": "0e2d531e-c400-4c1b-8d9d-22c0121b559c",
   "metadata": {},
   "outputs": [
    {
     "data": {
      "text/plain": [
       "38332521"
      ]
     },
     "execution_count": 19,
     "metadata": {},
     "output_type": "execute_result"
    }
   ],
   "source": [
    "population['California']"
   ]
  },
  {
   "cell_type": "code",
   "execution_count": 20,
   "id": "a4e11fd6-0f59-4503-abf8-9d41794c1c2e",
   "metadata": {},
   "outputs": [
    {
     "data": {
      "text/plain": [
       "California    38332521\n",
       "Texas         26448193\n",
       "New York      19651127\n",
       "Florida       19552860\n",
       "Illinois      12882135\n",
       "dtype: int64"
      ]
     },
     "execution_count": 20,
     "metadata": {},
     "output_type": "execute_result"
    }
   ],
   "source": [
    "population['California':'Illinois']"
   ]
  },
  {
   "cell_type": "markdown",
   "id": "2b165140-9103-40f0-9086-8e3aaa96ee7e",
   "metadata": {},
   "source": [
    "我们可以用如下的方式创建Series对象：\n",
    "\n",
    "```Python\n",
    "pd.Series(data, index=index)\n",
    "```\n",
    "\n",
    "其中，index是一个可选参数，data参数支持多种数据类型，比如列表或NumPy数组，此时index默认值为整数序列。"
   ]
  },
  {
   "cell_type": "code",
   "execution_count": 21,
   "id": "572bae9d-2214-4d10-b803-62d30af5eb4e",
   "metadata": {},
   "outputs": [
    {
     "data": {
      "text/plain": [
       "0    2\n",
       "1    4\n",
       "2    6\n",
       "dtype: int64"
      ]
     },
     "execution_count": 21,
     "metadata": {},
     "output_type": "execute_result"
    }
   ],
   "source": [
    "pd.Series([2, 4, 6])"
   ]
  },
  {
   "cell_type": "code",
   "execution_count": 22,
   "id": "b611a282-91ce-491d-b936-53353bec7dc7",
   "metadata": {},
   "outputs": [
    {
     "data": {
      "text/plain": [
       "100    5\n",
       "200    5\n",
       "300    5\n",
       "dtype: int64"
      ]
     },
     "execution_count": 22,
     "metadata": {},
     "output_type": "execute_result"
    }
   ],
   "source": [
    "pd.Series(5, index=[100, 200, 300])"
   ]
  },
  {
   "cell_type": "code",
   "execution_count": 23,
   "id": "65f25d95-6283-483e-b696-07bd48fe7d61",
   "metadata": {},
   "outputs": [
    {
     "data": {
      "text/plain": [
       "2    a\n",
       "1    b\n",
       "3    c\n",
       "dtype: object"
      ]
     },
     "execution_count": 23,
     "metadata": {},
     "output_type": "execute_result"
    }
   ],
   "source": [
    "pd.Series({2: 'a', 1: 'b', 3: 'c'})"
   ]
  },
  {
   "cell_type": "code",
   "execution_count": 24,
   "id": "ef465e13-c594-460c-9628-4d6f115b3506",
   "metadata": {},
   "outputs": [
    {
     "data": {
      "text/plain": [
       "3    c\n",
       "2    a\n",
       "dtype: object"
      ]
     },
     "execution_count": 24,
     "metadata": {},
     "output_type": "execute_result"
    }
   ],
   "source": [
    "pd.Series({2: 'a', 1: 'b', 3: 'c'}, index=[3, 2])"
   ]
  }
 ],
 "metadata": {
  "kernelspec": {
   "display_name": "Python 3 (ipykernel)",
   "language": "python",
   "name": "python3"
  },
  "language_info": {
   "codemirror_mode": {
    "name": "ipython",
    "version": 3
   },
   "file_extension": ".py",
   "mimetype": "text/x-python",
   "name": "python",
   "nbconvert_exporter": "python",
   "pygments_lexer": "ipython3",
   "version": "3.9.10"
  }
 },
 "nbformat": 4,
 "nbformat_minor": 5
}
