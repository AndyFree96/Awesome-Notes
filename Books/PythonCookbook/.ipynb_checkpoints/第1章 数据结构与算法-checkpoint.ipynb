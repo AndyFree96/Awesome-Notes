{
 "cells": [
  {
   "cell_type": "markdown",
   "id": "6137e468-81f1-4ae5-96ee-ce8aca7fc785",
   "metadata": {},
   "source": [
    "## 解压序列赋值给多个变量"
   ]
  },
  {
   "cell_type": "code",
   "execution_count": 1,
   "id": "e6cbccb9-8afc-4775-8c1a-9a7015b51bd9",
   "metadata": {},
   "outputs": [],
   "source": [
    "p = (4, 5)"
   ]
  },
  {
   "cell_type": "code",
   "execution_count": 2,
   "id": "e6e46c0e-b18b-4e39-9494-fc536fdeef08",
   "metadata": {},
   "outputs": [],
   "source": [
    "x, y = p"
   ]
  },
  {
   "cell_type": "code",
   "execution_count": 3,
   "id": "ecd95726-5bcb-48bb-b744-af2ab6630f68",
   "metadata": {},
   "outputs": [
    {
     "data": {
      "text/plain": [
       "4"
      ]
     },
     "execution_count": 3,
     "metadata": {},
     "output_type": "execute_result"
    }
   ],
   "source": [
    "x"
   ]
  },
  {
   "cell_type": "code",
   "execution_count": 4,
   "id": "ea16d48a-9b3d-42fa-b3c9-c2703573c2c6",
   "metadata": {},
   "outputs": [
    {
     "data": {
      "text/plain": [
       "5"
      ]
     },
     "execution_count": 4,
     "metadata": {},
     "output_type": "execute_result"
    }
   ],
   "source": [
    "y"
   ]
  },
  {
   "cell_type": "code",
   "execution_count": 5,
   "id": "ef578fd8-15f7-4983-90ef-101d4cdc9e44",
   "metadata": {},
   "outputs": [],
   "source": [
    "data = ['ACME', 50, 91.2, (2012, 12,21)]"
   ]
  },
  {
   "cell_type": "code",
   "execution_count": 6,
   "id": "3003b338-2124-4984-8811-36771454d553",
   "metadata": {},
   "outputs": [],
   "source": [
    "name, shares, price, date = data"
   ]
  },
  {
   "cell_type": "code",
   "execution_count": 7,
   "id": "9b12d3ee-5ad3-4b4d-89bb-203157a8057b",
   "metadata": {},
   "outputs": [
    {
     "data": {
      "text/plain": [
       "'ACME'"
      ]
     },
     "execution_count": 7,
     "metadata": {},
     "output_type": "execute_result"
    }
   ],
   "source": [
    "name"
   ]
  },
  {
   "cell_type": "code",
   "execution_count": 8,
   "id": "9a99fa21-b0c0-4a99-982a-513688a054a8",
   "metadata": {},
   "outputs": [
    {
     "data": {
      "text/plain": [
       "50"
      ]
     },
     "execution_count": 8,
     "metadata": {},
     "output_type": "execute_result"
    }
   ],
   "source": [
    "shares"
   ]
  },
  {
   "cell_type": "code",
   "execution_count": 9,
   "id": "a447c6b5-c05f-4636-89d3-ad737651d23b",
   "metadata": {},
   "outputs": [
    {
     "data": {
      "text/plain": [
       "(2012, 12, 21)"
      ]
     },
     "execution_count": 9,
     "metadata": {},
     "output_type": "execute_result"
    }
   ],
   "source": [
    "date"
   ]
  },
  {
   "cell_type": "code",
   "execution_count": 10,
   "id": "dc5b08d8-f724-4e56-a6e6-c1a9174377f7",
   "metadata": {},
   "outputs": [],
   "source": [
    "name, shares, price, (year, mon, day) = data"
   ]
  },
  {
   "cell_type": "code",
   "execution_count": 11,
   "id": "a04f2203-28d8-4113-8e6d-4a68aeeaa170",
   "metadata": {},
   "outputs": [
    {
     "data": {
      "text/plain": [
       "'ACME'"
      ]
     },
     "execution_count": 11,
     "metadata": {},
     "output_type": "execute_result"
    }
   ],
   "source": [
    "name"
   ]
  },
  {
   "cell_type": "code",
   "execution_count": 12,
   "id": "8218b62c-cb95-471a-af34-5fcbdf3dade2",
   "metadata": {},
   "outputs": [
    {
     "data": {
      "text/plain": [
       "2012"
      ]
     },
     "execution_count": 12,
     "metadata": {},
     "output_type": "execute_result"
    }
   ],
   "source": [
    "year"
   ]
  },
  {
   "cell_type": "code",
   "execution_count": 13,
   "id": "2a27866e-5453-48e7-8e81-b0f92b226dea",
   "metadata": {},
   "outputs": [
    {
     "data": {
      "text/plain": [
       "12"
      ]
     },
     "execution_count": 13,
     "metadata": {},
     "output_type": "execute_result"
    }
   ],
   "source": [
    "mon"
   ]
  },
  {
   "cell_type": "code",
   "execution_count": 14,
   "id": "679b6de2-6e1d-43ec-85cb-bb4510201eea",
   "metadata": {},
   "outputs": [
    {
     "data": {
      "text/plain": [
       "21"
      ]
     },
     "execution_count": 14,
     "metadata": {},
     "output_type": "execute_result"
    }
   ],
   "source": [
    "day"
   ]
  },
  {
   "cell_type": "code",
   "execution_count": 15,
   "id": "5ab6f169-1810-41f7-9225-9662f974c9ae",
   "metadata": {},
   "outputs": [
    {
     "ename": "ValueError",
     "evalue": "not enough values to unpack (expected 3, got 2)",
     "output_type": "error",
     "traceback": [
      "\u001b[0;31m---------------------------------------------------------------------------\u001b[0m",
      "\u001b[0;31mValueError\u001b[0m                                Traceback (most recent call last)",
      "Input \u001b[0;32mIn [15]\u001b[0m, in \u001b[0;36m<cell line: 1>\u001b[0;34m()\u001b[0m\n\u001b[0;32m----> 1\u001b[0m (x, y, z) \u001b[38;5;241m=\u001b[39m p\n",
      "\u001b[0;31mValueError\u001b[0m: not enough values to unpack (expected 3, got 2)"
     ]
    }
   ],
   "source": [
    "(x, y, z) = p"
   ]
  },
  {
   "cell_type": "markdown",
   "id": "108b5c09-8522-408a-a32e-dbecd1630ce5",
   "metadata": {},
   "source": [
    "这种解压赋值可以用在任何可迭代对象上面，而不仅仅是列表或者元组。包括字符串，文件对象，迭代器和生成器。"
   ]
  },
  {
   "cell_type": "code",
   "execution_count": 16,
   "id": "ef637112-06ca-47bc-87f7-a82dcac0101b",
   "metadata": {},
   "outputs": [],
   "source": [
    "s = \"hello\""
   ]
  },
  {
   "cell_type": "code",
   "execution_count": 17,
   "id": "6bfaf7e9-be4b-4024-ac74-94784beb3c91",
   "metadata": {},
   "outputs": [],
   "source": [
    "a, b, c, d, e = s"
   ]
  },
  {
   "cell_type": "code",
   "execution_count": 18,
   "id": "e846f635-ec39-43d9-8a5d-50686d30c254",
   "metadata": {},
   "outputs": [
    {
     "data": {
      "text/plain": [
       "'h'"
      ]
     },
     "execution_count": 18,
     "metadata": {},
     "output_type": "execute_result"
    }
   ],
   "source": [
    "a"
   ]
  },
  {
   "cell_type": "code",
   "execution_count": 19,
   "id": "7548975f-198a-4908-81dd-48c05452aeea",
   "metadata": {},
   "outputs": [
    {
     "data": {
      "text/plain": [
       "'o'"
      ]
     },
     "execution_count": 19,
     "metadata": {},
     "output_type": "execute_result"
    }
   ],
   "source": [
    "e"
   ]
  },
  {
   "cell_type": "markdown",
   "id": "fbb8f523-514f-4747-96c2-9c64c9ed307f",
   "metadata": {},
   "source": [
    "丢弃多余值。"
   ]
  },
  {
   "cell_type": "code",
   "execution_count": 20,
   "id": "d28bbc5f-e6cb-41c9-9076-c29ee23f3c82",
   "metadata": {},
   "outputs": [
    {
     "data": {
      "text/plain": [
       "['ACME', 50, 91.2, (2012, 12, 21)]"
      ]
     },
     "execution_count": 20,
     "metadata": {},
     "output_type": "execute_result"
    }
   ],
   "source": [
    "data"
   ]
  },
  {
   "cell_type": "code",
   "execution_count": 21,
   "id": "337cf443-131c-4057-ba55-8207a8a942e9",
   "metadata": {},
   "outputs": [],
   "source": [
    "_, shares, price, _ = data"
   ]
  },
  {
   "cell_type": "code",
   "execution_count": 22,
   "id": "41006198-5fbb-463e-956a-a39b2765618a",
   "metadata": {},
   "outputs": [
    {
     "data": {
      "text/plain": [
       "50"
      ]
     },
     "execution_count": 22,
     "metadata": {},
     "output_type": "execute_result"
    }
   ],
   "source": [
    "shares"
   ]
  },
  {
   "cell_type": "code",
   "execution_count": 23,
   "id": "6815016a-fab6-4594-bc84-0faaa62d41cc",
   "metadata": {},
   "outputs": [
    {
     "data": {
      "text/plain": [
       "91.2"
      ]
     },
     "execution_count": 23,
     "metadata": {},
     "output_type": "execute_result"
    }
   ],
   "source": [
    "price"
   ]
  }
 ],
 "metadata": {
  "kernelspec": {
   "display_name": "Python 3 (ipykernel)",
   "language": "python",
   "name": "python3"
  },
  "language_info": {
   "codemirror_mode": {
    "name": "ipython",
    "version": 3
   },
   "file_extension": ".py",
   "mimetype": "text/x-python",
   "name": "python",
   "nbconvert_exporter": "python",
   "pygments_lexer": "ipython3",
   "version": "3.9.10"
  }
 },
 "nbformat": 4,
 "nbformat_minor": 5
}
