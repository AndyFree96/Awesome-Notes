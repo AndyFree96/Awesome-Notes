{
 "cells": [
  {
   "cell_type": "markdown",
   "id": "6137e468-81f1-4ae5-96ee-ce8aca7fc785",
   "metadata": {},
   "source": [
    "## 解压序列赋值给多个变量"
   ]
  },
  {
   "cell_type": "code",
   "execution_count": 1,
   "id": "e6cbccb9-8afc-4775-8c1a-9a7015b51bd9",
   "metadata": {},
   "outputs": [],
   "source": [
    "p = (4, 5)"
   ]
  },
  {
   "cell_type": "code",
   "execution_count": 2,
   "id": "e6e46c0e-b18b-4e39-9494-fc536fdeef08",
   "metadata": {},
   "outputs": [],
   "source": [
    "x, y = p"
   ]
  },
  {
   "cell_type": "code",
   "execution_count": 3,
   "id": "ecd95726-5bcb-48bb-b744-af2ab6630f68",
   "metadata": {},
   "outputs": [
    {
     "data": {
      "text/plain": [
       "4"
      ]
     },
     "execution_count": 3,
     "metadata": {},
     "output_type": "execute_result"
    }
   ],
   "source": [
    "x"
   ]
  },
  {
   "cell_type": "code",
   "execution_count": 4,
   "id": "ea16d48a-9b3d-42fa-b3c9-c2703573c2c6",
   "metadata": {},
   "outputs": [
    {
     "data": {
      "text/plain": [
       "5"
      ]
     },
     "execution_count": 4,
     "metadata": {},
     "output_type": "execute_result"
    }
   ],
   "source": [
    "y"
   ]
  },
  {
   "cell_type": "code",
   "execution_count": 5,
   "id": "ef578fd8-15f7-4983-90ef-101d4cdc9e44",
   "metadata": {},
   "outputs": [],
   "source": [
    "data = ['ACME', 50, 91.2, (2012, 12,21)]"
   ]
  },
  {
   "cell_type": "code",
   "execution_count": 6,
   "id": "3003b338-2124-4984-8811-36771454d553",
   "metadata": {},
   "outputs": [],
   "source": [
    "name, shares, price, date = data"
   ]
  },
  {
   "cell_type": "code",
   "execution_count": 7,
   "id": "9b12d3ee-5ad3-4b4d-89bb-203157a8057b",
   "metadata": {},
   "outputs": [
    {
     "data": {
      "text/plain": [
       "'ACME'"
      ]
     },
     "execution_count": 7,
     "metadata": {},
     "output_type": "execute_result"
    }
   ],
   "source": [
    "name"
   ]
  },
  {
   "cell_type": "code",
   "execution_count": 8,
   "id": "9a99fa21-b0c0-4a99-982a-513688a054a8",
   "metadata": {},
   "outputs": [
    {
     "data": {
      "text/plain": [
       "50"
      ]
     },
     "execution_count": 8,
     "metadata": {},
     "output_type": "execute_result"
    }
   ],
   "source": [
    "shares"
   ]
  },
  {
   "cell_type": "code",
   "execution_count": 9,
   "id": "a447c6b5-c05f-4636-89d3-ad737651d23b",
   "metadata": {},
   "outputs": [
    {
     "data": {
      "text/plain": [
       "(2012, 12, 21)"
      ]
     },
     "execution_count": 9,
     "metadata": {},
     "output_type": "execute_result"
    }
   ],
   "source": [
    "date"
   ]
  },
  {
   "cell_type": "code",
   "execution_count": 10,
   "id": "dc5b08d8-f724-4e56-a6e6-c1a9174377f7",
   "metadata": {},
   "outputs": [],
   "source": [
    "name, shares, price, (year, mon, day) = data"
   ]
  },
  {
   "cell_type": "code",
   "execution_count": 11,
   "id": "a04f2203-28d8-4113-8e6d-4a68aeeaa170",
   "metadata": {},
   "outputs": [
    {
     "data": {
      "text/plain": [
       "'ACME'"
      ]
     },
     "execution_count": 11,
     "metadata": {},
     "output_type": "execute_result"
    }
   ],
   "source": [
    "name"
   ]
  },
  {
   "cell_type": "code",
   "execution_count": 12,
   "id": "8218b62c-cb95-471a-af34-5fcbdf3dade2",
   "metadata": {},
   "outputs": [
    {
     "data": {
      "text/plain": [
       "2012"
      ]
     },
     "execution_count": 12,
     "metadata": {},
     "output_type": "execute_result"
    }
   ],
   "source": [
    "year"
   ]
  },
  {
   "cell_type": "code",
   "execution_count": 13,
   "id": "2a27866e-5453-48e7-8e81-b0f92b226dea",
   "metadata": {},
   "outputs": [
    {
     "data": {
      "text/plain": [
       "12"
      ]
     },
     "execution_count": 13,
     "metadata": {},
     "output_type": "execute_result"
    }
   ],
   "source": [
    "mon"
   ]
  },
  {
   "cell_type": "code",
   "execution_count": 14,
   "id": "679b6de2-6e1d-43ec-85cb-bb4510201eea",
   "metadata": {},
   "outputs": [
    {
     "data": {
      "text/plain": [
       "21"
      ]
     },
     "execution_count": 14,
     "metadata": {},
     "output_type": "execute_result"
    }
   ],
   "source": [
    "day"
   ]
  },
  {
   "cell_type": "code",
   "execution_count": 15,
   "id": "5ab6f169-1810-41f7-9225-9662f974c9ae",
   "metadata": {},
   "outputs": [
    {
     "ename": "ValueError",
     "evalue": "not enough values to unpack (expected 3, got 2)",
     "output_type": "error",
     "traceback": [
      "\u001b[0;31m---------------------------------------------------------------------------\u001b[0m",
      "\u001b[0;31mValueError\u001b[0m                                Traceback (most recent call last)",
      "Input \u001b[0;32mIn [15]\u001b[0m, in \u001b[0;36m<cell line: 1>\u001b[0;34m()\u001b[0m\n\u001b[0;32m----> 1\u001b[0m (x, y, z) \u001b[38;5;241m=\u001b[39m p\n",
      "\u001b[0;31mValueError\u001b[0m: not enough values to unpack (expected 3, got 2)"
     ]
    }
   ],
   "source": [
    "(x, y, z) = p"
   ]
  },
  {
   "cell_type": "markdown",
   "id": "108b5c09-8522-408a-a32e-dbecd1630ce5",
   "metadata": {},
   "source": [
    "这种解压赋值可以用在任何可迭代对象上面，而不仅仅是列表或者元组。包括字符串，文件对象，迭代器和生成器。"
   ]
  },
  {
   "cell_type": "code",
   "execution_count": 16,
   "id": "ef637112-06ca-47bc-87f7-a82dcac0101b",
   "metadata": {},
   "outputs": [],
   "source": [
    "s = \"hello\""
   ]
  },
  {
   "cell_type": "code",
   "execution_count": 17,
   "id": "6bfaf7e9-be4b-4024-ac74-94784beb3c91",
   "metadata": {},
   "outputs": [],
   "source": [
    "a, b, c, d, e = s"
   ]
  },
  {
   "cell_type": "code",
   "execution_count": 18,
   "id": "e846f635-ec39-43d9-8a5d-50686d30c254",
   "metadata": {},
   "outputs": [
    {
     "data": {
      "text/plain": [
       "'h'"
      ]
     },
     "execution_count": 18,
     "metadata": {},
     "output_type": "execute_result"
    }
   ],
   "source": [
    "a"
   ]
  },
  {
   "cell_type": "code",
   "execution_count": 19,
   "id": "7548975f-198a-4908-81dd-48c05452aeea",
   "metadata": {},
   "outputs": [
    {
     "data": {
      "text/plain": [
       "'o'"
      ]
     },
     "execution_count": 19,
     "metadata": {},
     "output_type": "execute_result"
    }
   ],
   "source": [
    "e"
   ]
  },
  {
   "cell_type": "markdown",
   "id": "fbb8f523-514f-4747-96c2-9c64c9ed307f",
   "metadata": {},
   "source": [
    "丢弃多余值。"
   ]
  },
  {
   "cell_type": "code",
   "execution_count": 20,
   "id": "d28bbc5f-e6cb-41c9-9076-c29ee23f3c82",
   "metadata": {},
   "outputs": [
    {
     "data": {
      "text/plain": [
       "['ACME', 50, 91.2, (2012, 12, 21)]"
      ]
     },
     "execution_count": 20,
     "metadata": {},
     "output_type": "execute_result"
    }
   ],
   "source": [
    "data"
   ]
  },
  {
   "cell_type": "code",
   "execution_count": 21,
   "id": "337cf443-131c-4057-ba55-8207a8a942e9",
   "metadata": {},
   "outputs": [],
   "source": [
    "_, shares, price, _ = data"
   ]
  },
  {
   "cell_type": "code",
   "execution_count": 22,
   "id": "41006198-5fbb-463e-956a-a39b2765618a",
   "metadata": {},
   "outputs": [
    {
     "data": {
      "text/plain": [
       "50"
      ]
     },
     "execution_count": 22,
     "metadata": {},
     "output_type": "execute_result"
    }
   ],
   "source": [
    "shares"
   ]
  },
  {
   "cell_type": "code",
   "execution_count": 23,
   "id": "6815016a-fab6-4594-bc84-0faaa62d41cc",
   "metadata": {},
   "outputs": [
    {
     "data": {
      "text/plain": [
       "91.2"
      ]
     },
     "execution_count": 23,
     "metadata": {},
     "output_type": "execute_result"
    }
   ],
   "source": [
    "price"
   ]
  },
  {
   "cell_type": "markdown",
   "id": "39ef9db1-3135-4eee-a9fc-d6e8523ac8cd",
   "metadata": {},
   "source": [
    "## 解压可迭代对象赋值给多个变量"
   ]
  },
  {
   "cell_type": "code",
   "execution_count": 1,
   "id": "55d01848-18ef-4ad3-92b8-99e9d500d284",
   "metadata": {},
   "outputs": [],
   "source": [
    "record = ('Dave', 'dave@example.com', '773-555-1212', '847-555-1212')"
   ]
  },
  {
   "cell_type": "code",
   "execution_count": 2,
   "id": "7be028ef-ba24-4432-a239-386d23d5b19b",
   "metadata": {},
   "outputs": [],
   "source": [
    "name, email, *phone_numbers = record"
   ]
  },
  {
   "cell_type": "code",
   "execution_count": 3,
   "id": "f460b8d3-6055-4031-a341-8dfcfcd89a16",
   "metadata": {},
   "outputs": [
    {
     "data": {
      "text/plain": [
       "'Dave'"
      ]
     },
     "execution_count": 3,
     "metadata": {},
     "output_type": "execute_result"
    }
   ],
   "source": [
    "name"
   ]
  },
  {
   "cell_type": "code",
   "execution_count": 4,
   "id": "c482a9dc-607a-46a3-9288-1fa193e1b9a1",
   "metadata": {},
   "outputs": [
    {
     "data": {
      "text/plain": [
       "'dave@example.com'"
      ]
     },
     "execution_count": 4,
     "metadata": {},
     "output_type": "execute_result"
    }
   ],
   "source": [
    "email"
   ]
  },
  {
   "cell_type": "code",
   "execution_count": 5,
   "id": "91156f65-8917-4781-9760-21af6afb9d41",
   "metadata": {},
   "outputs": [
    {
     "data": {
      "text/plain": [
       "['773-555-1212', '847-555-1212']"
      ]
     },
     "execution_count": 5,
     "metadata": {},
     "output_type": "execute_result"
    }
   ],
   "source": [
    "phone_numbers"
   ]
  },
  {
   "cell_type": "markdown",
   "id": "c6f0d362-13ce-4801-869d-8649438bf166",
   "metadata": {},
   "source": [
    "## 保留最后N个元素"
   ]
  },
  {
   "cell_type": "code",
   "execution_count": 9,
   "id": "94a7a4ed-a4bd-45ab-9a82-0fdf8f343ad9",
   "metadata": {},
   "outputs": [],
   "source": [
    "from collections import deque"
   ]
  },
  {
   "cell_type": "code",
   "execution_count": 10,
   "id": "39017b24-a9c9-421e-bdad-2b9d1597f13e",
   "metadata": {},
   "outputs": [],
   "source": [
    "q = deque(maxlen=3)"
   ]
  },
  {
   "cell_type": "code",
   "execution_count": 11,
   "id": "c2013a85-784a-432b-815b-fcfc62469a44",
   "metadata": {},
   "outputs": [],
   "source": [
    "q.append(1)\n",
    "q.append(2)\n",
    "q.append(3)"
   ]
  },
  {
   "cell_type": "code",
   "execution_count": 12,
   "id": "478f1dc5-9199-401d-8a44-a56b89909f2a",
   "metadata": {},
   "outputs": [
    {
     "data": {
      "text/plain": [
       "deque([1, 2, 3])"
      ]
     },
     "execution_count": 12,
     "metadata": {},
     "output_type": "execute_result"
    }
   ],
   "source": [
    "q"
   ]
  },
  {
   "cell_type": "code",
   "execution_count": 13,
   "id": "43fea994-dd95-4f66-a1b1-ad6fe5a08884",
   "metadata": {},
   "outputs": [],
   "source": [
    "q.append(4)"
   ]
  },
  {
   "cell_type": "code",
   "execution_count": 14,
   "id": "4b5eb6b6-835f-427f-84d0-d430a6b0537e",
   "metadata": {},
   "outputs": [
    {
     "data": {
      "text/plain": [
       "deque([2, 3, 4])"
      ]
     },
     "execution_count": 14,
     "metadata": {},
     "output_type": "execute_result"
    }
   ],
   "source": [
    "q"
   ]
  },
  {
   "cell_type": "code",
   "execution_count": 15,
   "id": "1eff0cd9-b748-45e7-8e9c-db54229d02a2",
   "metadata": {},
   "outputs": [],
   "source": [
    "q.append(5)"
   ]
  },
  {
   "cell_type": "code",
   "execution_count": 16,
   "id": "48ddaa8a-a6b3-4a6a-9d78-64858e387be1",
   "metadata": {},
   "outputs": [
    {
     "data": {
      "text/plain": [
       "deque([3, 4, 5])"
      ]
     },
     "execution_count": 16,
     "metadata": {},
     "output_type": "execute_result"
    }
   ],
   "source": [
    "q"
   ]
  },
  {
   "cell_type": "code",
   "execution_count": 17,
   "id": "e1f158ed-7e3b-4637-8730-549b7d7911f6",
   "metadata": {},
   "outputs": [],
   "source": [
    "q.appendleft(6)"
   ]
  },
  {
   "cell_type": "code",
   "execution_count": 18,
   "id": "9c8337b9-a5dc-4f9f-a78b-d49e0f65df6e",
   "metadata": {},
   "outputs": [
    {
     "data": {
      "text/plain": [
       "deque([6, 3, 4])"
      ]
     },
     "execution_count": 18,
     "metadata": {},
     "output_type": "execute_result"
    }
   ],
   "source": [
    "q"
   ]
  },
  {
   "cell_type": "markdown",
   "id": "79dd15d0-2a99-4596-be60-38fd8afb36d8",
   "metadata": {},
   "source": [
    "## 查找最大或最小的N个元素"
   ]
  },
  {
   "cell_type": "code",
   "execution_count": 1,
   "id": "a29fb25d-9f01-4047-969d-4360ce6aeb89",
   "metadata": {},
   "outputs": [],
   "source": [
    "import heapq"
   ]
  },
  {
   "cell_type": "code",
   "execution_count": 3,
   "id": "306924ba-9894-49db-983f-45453be44f25",
   "metadata": {},
   "outputs": [],
   "source": [
    "nums = [1, 8, 2, 23, 7, -4, 18, 23, 42, 37, 2]"
   ]
  },
  {
   "cell_type": "code",
   "execution_count": 4,
   "id": "1410d9f6-c5be-4558-a3a4-9f3bdc88a7e1",
   "metadata": {},
   "outputs": [
    {
     "data": {
      "text/plain": [
       "[42, 37, 23]"
      ]
     },
     "execution_count": 4,
     "metadata": {},
     "output_type": "execute_result"
    }
   ],
   "source": [
    "heapq.nlargest(3, nums)"
   ]
  },
  {
   "cell_type": "code",
   "execution_count": 5,
   "id": "4d5b9a6f-386a-4de2-b26f-66d7b0f845c3",
   "metadata": {},
   "outputs": [
    {
     "data": {
      "text/plain": [
       "[-4, 1, 2]"
      ]
     },
     "execution_count": 5,
     "metadata": {},
     "output_type": "execute_result"
    }
   ],
   "source": [
    "heapq.nsmallest(3, nums)"
   ]
  },
  {
   "cell_type": "code",
   "execution_count": 6,
   "id": "2d357bf4-4dcc-4610-87ee-53cd72fb4d02",
   "metadata": {},
   "outputs": [],
   "source": [
    "portfolio = [\n",
    "    {'name': 'IBM', 'shares': 100, 'price': 91.1},\n",
    "    {'name': 'AAPL', 'shares': 50, 'price': 543.22},\n",
    "    {'name': 'FB', 'shares': 200, 'price': 21.09},\n",
    "    {'name': 'HPQ', 'shares': 35, 'price': 31.75},\n",
    "    {'name': 'YHOO', 'shares': 45, 'price': 16.35},\n",
    "    {'name': 'ACME', 'shares': 75, 'price': 115.65}\n",
    "]"
   ]
  },
  {
   "cell_type": "code",
   "execution_count": 7,
   "id": "9671c630-48dc-4a42-9a63-de6e1d8848c9",
   "metadata": {},
   "outputs": [
    {
     "data": {
      "text/plain": [
       "[{'name': 'YHOO', 'shares': 45, 'price': 16.35},\n",
       " {'name': 'FB', 'shares': 200, 'price': 21.09},\n",
       " {'name': 'HPQ', 'shares': 35, 'price': 31.75}]"
      ]
     },
     "execution_count": 7,
     "metadata": {},
     "output_type": "execute_result"
    }
   ],
   "source": [
    "heapq.nsmallest(3, portfolio, key = lambda s: s['price'])"
   ]
  },
  {
   "cell_type": "code",
   "execution_count": 8,
   "id": "83294c57-48b8-4728-b610-cda927521bd4",
   "metadata": {},
   "outputs": [
    {
     "data": {
      "text/plain": [
       "[{'name': 'AAPL', 'shares': 50, 'price': 543.22},\n",
       " {'name': 'ACME', 'shares': 75, 'price': 115.65},\n",
       " {'name': 'IBM', 'shares': 100, 'price': 91.1}]"
      ]
     },
     "execution_count": 8,
     "metadata": {},
     "output_type": "execute_result"
    }
   ],
   "source": [
    "heapq.nlargest(3, portfolio, key = lambda s: s['price'])"
   ]
  },
  {
   "cell_type": "code",
   "execution_count": 19,
   "id": "5d42a308-1001-4633-9e07-1502d86abe52",
   "metadata": {},
   "outputs": [],
   "source": [
    "nums = [1, 8, 2, 23, 7, -4, 18, 23, 42, 37, 2]"
   ]
  },
  {
   "cell_type": "code",
   "execution_count": 20,
   "id": "1d278c9d-5301-4dc7-80dd-7216e207ef77",
   "metadata": {},
   "outputs": [],
   "source": [
    "heap = list(nums)"
   ]
  },
  {
   "cell_type": "code",
   "execution_count": 21,
   "id": "7dd502b1-bbf9-4f1a-9133-a7bd80280fb9",
   "metadata": {},
   "outputs": [],
   "source": [
    "heapq.heapify(heap)"
   ]
  },
  {
   "cell_type": "code",
   "execution_count": 22,
   "id": "7bf3372e-25c7-4544-bdec-5b5f78b83053",
   "metadata": {},
   "outputs": [
    {
     "data": {
      "text/plain": [
       "[-4, 2, 1, 23, 7, 2, 18, 23, 42, 37, 8]"
      ]
     },
     "execution_count": 22,
     "metadata": {},
     "output_type": "execute_result"
    }
   ],
   "source": [
    "heap"
   ]
  },
  {
   "cell_type": "code",
   "execution_count": 23,
   "id": "de1b6f0e-0a99-4000-b0f6-7e2de643a028",
   "metadata": {},
   "outputs": [
    {
     "data": {
      "text/plain": [
       "-4"
      ]
     },
     "execution_count": 23,
     "metadata": {},
     "output_type": "execute_result"
    }
   ],
   "source": [
    "heapq.heappop(heap)"
   ]
  },
  {
   "cell_type": "code",
   "execution_count": 24,
   "id": "846152cd-9a7a-4ea7-af0e-b824c02c4d9c",
   "metadata": {},
   "outputs": [
    {
     "data": {
      "text/plain": [
       "[1, 2, 2, 23, 7, 8, 18, 23, 42, 37]"
      ]
     },
     "execution_count": 24,
     "metadata": {},
     "output_type": "execute_result"
    }
   ],
   "source": [
    "heap"
   ]
  },
  {
   "cell_type": "code",
   "execution_count": 25,
   "id": "9fe57631-f0a1-4a97-9653-aa4f131e1a66",
   "metadata": {},
   "outputs": [
    {
     "data": {
      "text/plain": [
       "1"
      ]
     },
     "execution_count": 25,
     "metadata": {},
     "output_type": "execute_result"
    }
   ],
   "source": [
    "heapq.heappop(heap)"
   ]
  },
  {
   "cell_type": "code",
   "execution_count": 26,
   "id": "3c53b0a3-b03f-4ba0-9db1-f35e928cdd5f",
   "metadata": {},
   "outputs": [
    {
     "data": {
      "text/plain": [
       "2"
      ]
     },
     "execution_count": 26,
     "metadata": {},
     "output_type": "execute_result"
    }
   ],
   "source": [
    "heapq.heappop(heap)"
   ]
  },
  {
   "cell_type": "markdown",
   "id": "44844885-a77b-44c9-8558-8661e5905822",
   "metadata": {},
   "source": [
    "## 命名切片"
   ]
  },
  {
   "cell_type": "code",
   "execution_count": 1,
   "id": "348117ba-8b14-4542-b73d-b17c3e173c0a",
   "metadata": {},
   "outputs": [],
   "source": [
    "record = '....................100 .......513.25 ..........'"
   ]
  },
  {
   "cell_type": "code",
   "execution_count": 2,
   "id": "f2446e96-3edc-4df3-a444-62792c7bd91e",
   "metadata": {},
   "outputs": [],
   "source": [
    "cost = int(record[20:23]) * float(record[31:37])"
   ]
  },
  {
   "cell_type": "code",
   "execution_count": 3,
   "id": "3fa6d68c-50fe-4ed0-926a-ec5836697bb1",
   "metadata": {},
   "outputs": [
    {
     "data": {
      "text/plain": [
       "51325.0"
      ]
     },
     "execution_count": 3,
     "metadata": {},
     "output_type": "execute_result"
    }
   ],
   "source": [
    "cost"
   ]
  },
  {
   "cell_type": "code",
   "execution_count": 4,
   "id": "61da3918-df6b-49ba-a6ad-0516121863c4",
   "metadata": {},
   "outputs": [],
   "source": [
    "SHARES = slice(20,23)\n",
    "PRICE = slice(31, 37)"
   ]
  },
  {
   "cell_type": "code",
   "execution_count": 5,
   "id": "2833ad8e-8c63-4b72-a33a-c6e045febead",
   "metadata": {},
   "outputs": [],
   "source": [
    "cost = int(record[SHARES]) * float(record[PRICE])"
   ]
  },
  {
   "cell_type": "code",
   "execution_count": 6,
   "id": "da74b72a-9ea9-4a0f-96c7-de9e8cb4ed01",
   "metadata": {},
   "outputs": [
    {
     "data": {
      "text/plain": [
       "51325.0"
      ]
     },
     "execution_count": 6,
     "metadata": {},
     "output_type": "execute_result"
    }
   ],
   "source": [
    "cost"
   ]
  },
  {
   "cell_type": "code",
   "execution_count": 7,
   "id": "b73e2228-3539-4f4c-8685-b4408009dc57",
   "metadata": {},
   "outputs": [
    {
     "data": {
      "text/plain": [
       "20"
      ]
     },
     "execution_count": 7,
     "metadata": {},
     "output_type": "execute_result"
    }
   ],
   "source": [
    "SHARES.start"
   ]
  },
  {
   "cell_type": "code",
   "execution_count": 9,
   "id": "68a312f6-700f-47f1-b779-1d2ef32cdce4",
   "metadata": {},
   "outputs": [
    {
     "data": {
      "text/plain": [
       "23"
      ]
     },
     "execution_count": 9,
     "metadata": {},
     "output_type": "execute_result"
    }
   ],
   "source": [
    "SHARES.stop"
   ]
  },
  {
   "cell_type": "code",
   "execution_count": 10,
   "id": "2c8fd0b4-50f5-451c-9dc2-c7810bc4a7cb",
   "metadata": {},
   "outputs": [],
   "source": [
    "SHARES.step"
   ]
  },
  {
   "cell_type": "code",
   "execution_count": 11,
   "id": "18bac23b-0573-4283-a303-fa489a57e438",
   "metadata": {},
   "outputs": [],
   "source": [
    "a = slice(3, 7, 2)"
   ]
  },
  {
   "cell_type": "code",
   "execution_count": 12,
   "id": "180c1ba9-fc0c-48be-8864-bca0bdf3d4b0",
   "metadata": {},
   "outputs": [
    {
     "data": {
      "text/plain": [
       "slice(3, 7, 2)"
      ]
     },
     "execution_count": 12,
     "metadata": {},
     "output_type": "execute_result"
    }
   ],
   "source": [
    "a"
   ]
  },
  {
   "cell_type": "code",
   "execution_count": 13,
   "id": "3efcedef-5fa8-401a-8f5f-063a37cd14a4",
   "metadata": {},
   "outputs": [
    {
     "data": {
      "text/plain": [
       "3"
      ]
     },
     "execution_count": 13,
     "metadata": {},
     "output_type": "execute_result"
    }
   ],
   "source": [
    "a.start"
   ]
  },
  {
   "cell_type": "code",
   "execution_count": 14,
   "id": "e480ad8f-7226-49cd-8798-23203c897152",
   "metadata": {},
   "outputs": [
    {
     "data": {
      "text/plain": [
       "7"
      ]
     },
     "execution_count": 14,
     "metadata": {},
     "output_type": "execute_result"
    }
   ],
   "source": [
    "a.stop"
   ]
  },
  {
   "cell_type": "code",
   "execution_count": 15,
   "id": "d87ebb1d-9fd8-4308-a820-a7ce593a47a5",
   "metadata": {},
   "outputs": [
    {
     "data": {
      "text/plain": [
       "2"
      ]
     },
     "execution_count": 15,
     "metadata": {},
     "output_type": "execute_result"
    }
   ],
   "source": [
    "a.step"
   ]
  },
  {
   "cell_type": "markdown",
   "id": "fafbff6c-4c5a-4c1f-bf9a-17f7f1ebb616",
   "metadata": {},
   "source": [
    "## 序列中出现次数最多的元素"
   ]
  },
  {
   "cell_type": "code",
   "execution_count": 17,
   "id": "0bff0d02-0a99-4cda-8312-57701c2b48a2",
   "metadata": {},
   "outputs": [],
   "source": [
    "words = [\n",
    "    'look', 'into', 'my', 'eyes', 'look', 'into', 'my', 'eyes',\n",
    "    'the', 'eyes', 'the', 'eyes', 'the', 'eyes', 'not', 'around', 'the',\n",
    "    'eyes', \"don't\", 'look', 'around', 'the', 'eyes', 'look', 'into',\n",
    "    'my', 'eyes', \"you're\", 'under'\n",
    "]"
   ]
  },
  {
   "cell_type": "code",
   "execution_count": 18,
   "id": "9cb5e761-252a-45ba-837e-37706c9b489e",
   "metadata": {},
   "outputs": [],
   "source": [
    "from collections import Counter"
   ]
  },
  {
   "cell_type": "code",
   "execution_count": 19,
   "id": "be4aa630-6417-452c-b665-5659b239cb99",
   "metadata": {},
   "outputs": [],
   "source": [
    "word_counts = Counter(words)"
   ]
  },
  {
   "cell_type": "code",
   "execution_count": 20,
   "id": "76b85fb0-69d8-40d4-a6a4-60ad25e1d6f8",
   "metadata": {},
   "outputs": [
    {
     "data": {
      "text/plain": [
       "[('eyes', 8), ('the', 5), ('look', 4)]"
      ]
     },
     "execution_count": 20,
     "metadata": {},
     "output_type": "execute_result"
    }
   ],
   "source": [
    "word_counts.most_common(3)"
   ]
  },
  {
   "cell_type": "code",
   "execution_count": 22,
   "id": "ef72f53d-2144-4460-a727-a53a5d928a46",
   "metadata": {},
   "outputs": [
    {
     "data": {
      "text/plain": [
       "8"
      ]
     },
     "execution_count": 22,
     "metadata": {},
     "output_type": "execute_result"
    }
   ],
   "source": [
    "word_counts['eyes']"
   ]
  },
  {
   "cell_type": "code",
   "execution_count": 23,
   "id": "4be0d3ed-c493-49bb-a15c-b95cf9d71da0",
   "metadata": {},
   "outputs": [],
   "source": [
    "morewords = ['why','are','you','not','looking','in','my','eyes']"
   ]
  },
  {
   "cell_type": "code",
   "execution_count": 24,
   "id": "778924fb-cbd5-430a-9c74-0c52e8ea8149",
   "metadata": {},
   "outputs": [],
   "source": [
    "word_counts.update(morewords)"
   ]
  },
  {
   "cell_type": "code",
   "execution_count": 26,
   "id": "616f22fa-c407-4b95-869c-709660692c82",
   "metadata": {},
   "outputs": [
    {
     "data": {
      "text/plain": [
       "[('eyes', 9), ('the', 5), ('look', 4)]"
      ]
     },
     "execution_count": 26,
     "metadata": {},
     "output_type": "execute_result"
    }
   ],
   "source": [
    "word_counts.most_common(3)"
   ]
  },
  {
   "cell_type": "code",
   "execution_count": 27,
   "id": "84a0ebd3-02fc-4891-81f9-ff87f77c5367",
   "metadata": {},
   "outputs": [],
   "source": [
    "a = Counter(words)\n",
    "b = Counter(morewords)"
   ]
  },
  {
   "cell_type": "code",
   "execution_count": 28,
   "id": "ddacc652-2e94-441d-8615-fe554769d2da",
   "metadata": {},
   "outputs": [
    {
     "data": {
      "text/plain": [
       "Counter({'look': 4,\n",
       "         'into': 3,\n",
       "         'my': 3,\n",
       "         'eyes': 8,\n",
       "         'the': 5,\n",
       "         'not': 1,\n",
       "         'around': 2,\n",
       "         \"don't\": 1,\n",
       "         \"you're\": 1,\n",
       "         'under': 1})"
      ]
     },
     "execution_count": 28,
     "metadata": {},
     "output_type": "execute_result"
    }
   ],
   "source": [
    "a"
   ]
  },
  {
   "cell_type": "code",
   "execution_count": 29,
   "id": "31f582fa-df27-4470-9a98-24b7fe827688",
   "metadata": {},
   "outputs": [
    {
     "data": {
      "text/plain": [
       "Counter({'why': 1,\n",
       "         'are': 1,\n",
       "         'you': 1,\n",
       "         'not': 1,\n",
       "         'looking': 1,\n",
       "         'in': 1,\n",
       "         'my': 1,\n",
       "         'eyes': 1})"
      ]
     },
     "execution_count": 29,
     "metadata": {},
     "output_type": "execute_result"
    }
   ],
   "source": [
    "b"
   ]
  },
  {
   "cell_type": "code",
   "execution_count": 30,
   "id": "de7f19a2-61b6-42f7-8a77-cd6c5bc642fe",
   "metadata": {},
   "outputs": [],
   "source": [
    "c = a + b"
   ]
  },
  {
   "cell_type": "code",
   "execution_count": 31,
   "id": "fb0862c7-a742-41a0-8449-a27d63fff7ec",
   "metadata": {},
   "outputs": [
    {
     "data": {
      "text/plain": [
       "Counter({'look': 4,\n",
       "         'into': 3,\n",
       "         'my': 4,\n",
       "         'eyes': 9,\n",
       "         'the': 5,\n",
       "         'not': 2,\n",
       "         'around': 2,\n",
       "         \"don't\": 1,\n",
       "         \"you're\": 1,\n",
       "         'under': 1,\n",
       "         'why': 1,\n",
       "         'are': 1,\n",
       "         'you': 1,\n",
       "         'looking': 1,\n",
       "         'in': 1})"
      ]
     },
     "execution_count": 31,
     "metadata": {},
     "output_type": "execute_result"
    }
   ],
   "source": [
    "c"
   ]
  },
  {
   "cell_type": "code",
   "execution_count": 32,
   "id": "df87a005-89ee-4444-8676-1df76b5a0f95",
   "metadata": {},
   "outputs": [],
   "source": [
    "d = a - b"
   ]
  },
  {
   "cell_type": "code",
   "execution_count": 33,
   "id": "983fb463-47ac-43cc-bca9-174fc496a727",
   "metadata": {},
   "outputs": [
    {
     "data": {
      "text/plain": [
       "Counter({'look': 4,\n",
       "         'into': 3,\n",
       "         'my': 2,\n",
       "         'eyes': 7,\n",
       "         'the': 5,\n",
       "         'around': 2,\n",
       "         \"don't\": 1,\n",
       "         \"you're\": 1,\n",
       "         'under': 1})"
      ]
     },
     "execution_count": 33,
     "metadata": {},
     "output_type": "execute_result"
    }
   ],
   "source": [
    "d"
   ]
  }
 ],
 "metadata": {
  "kernelspec": {
   "display_name": "Python 3 (ipykernel)",
   "language": "python",
   "name": "python3"
  },
  "language_info": {
   "codemirror_mode": {
    "name": "ipython",
    "version": 3
   },
   "file_extension": ".py",
   "mimetype": "text/x-python",
   "name": "python",
   "nbconvert_exporter": "python",
   "pygments_lexer": "ipython3",
   "version": "3.9.10"
  }
 },
 "nbformat": 4,
 "nbformat_minor": 5
}
